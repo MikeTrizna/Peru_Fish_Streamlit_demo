{
 "cells": [
  {
   "cell_type": "code",
   "execution_count": 1,
   "metadata": {
    "ExecuteTime": {
     "end_time": "2020-11-13T15:09:13.280871Z",
     "start_time": "2020-11-13T15:09:13.071302Z"
    }
   },
   "outputs": [],
   "source": [
    "import numpy as np"
   ]
  },
  {
   "cell_type": "code",
   "execution_count": 2,
   "metadata": {
    "ExecuteTime": {
     "end_time": "2020-11-13T15:10:28.332866Z",
     "start_time": "2020-11-13T15:10:28.320621Z"
    }
   },
   "outputs": [
    {
     "data": {
      "text/plain": [
       "500"
      ]
     },
     "execution_count": 2,
     "metadata": {},
     "output_type": "execute_result"
    }
   ],
   "source": [
    "b13 = 25\n",
    "b14 = 20\n",
    "b15 = b13 * b14\n",
    "b15"
   ]
  },
  {
   "cell_type": "code",
   "execution_count": 4,
   "metadata": {
    "ExecuteTime": {
     "end_time": "2020-11-13T15:11:33.796589Z",
     "start_time": "2020-11-13T15:11:33.790623Z"
    }
   },
   "outputs": [
    {
     "data": {
      "text/plain": [
       "46.512499999999996"
      ]
     },
     "execution_count": 4,
     "metadata": {},
     "output_type": "execute_result"
    }
   ],
   "source": [
    "e13 = b13 * 0.305\n",
    "e14 = b14 * 0.305\n",
    "e15 = e13 * e14\n",
    "e15"
   ]
  },
  {
   "cell_type": "code",
   "execution_count": 5,
   "metadata": {
    "ExecuteTime": {
     "end_time": "2020-11-13T15:12:25.109745Z",
     "start_time": "2020-11-13T15:12:25.104506Z"
    }
   },
   "outputs": [
    {
     "data": {
      "text/plain": [
       "141.86312499999997"
      ]
     },
     "execution_count": 5,
     "metadata": {},
     "output_type": "execute_result"
    }
   ],
   "source": [
    "b16 = 10\n",
    "e16 = b16 * 0.305\n",
    "e17 = e13 * e14 * e16\n",
    "e17"
   ]
  },
  {
   "cell_type": "code",
   "execution_count": 6,
   "metadata": {
    "ExecuteTime": {
     "end_time": "2020-11-13T15:13:03.690835Z",
     "start_time": "2020-11-13T15:13:03.687730Z"
    }
   },
   "outputs": [],
   "source": [
    "b19 = 0.95\n",
    "b20 = 20\n",
    "b21 = 50\n",
    "b22 = 415"
   ]
  },
  {
   "cell_type": "code",
   "execution_count": 7,
   "metadata": {
    "ExecuteTime": {
     "end_time": "2020-11-13T15:13:34.764596Z",
     "start_time": "2020-11-13T15:13:34.760256Z"
    }
   },
   "outputs": [
    {
     "data": {
      "text/plain": [
       "0.8333333333333334"
      ]
     },
     "execution_count": 7,
     "metadata": {},
     "output_type": "execute_result"
    }
   ],
   "source": [
    "b24 = 50\n",
    "e24 = b24 / 60\n",
    "e24"
   ]
  },
  {
   "cell_type": "code",
   "execution_count": 8,
   "metadata": {
    "ExecuteTime": {
     "end_time": "2020-11-13T15:13:46.293338Z",
     "start_time": "2020-11-13T15:13:46.290110Z"
    }
   },
   "outputs": [],
   "source": [
    "b26 = 180"
   ]
  },
  {
   "cell_type": "code",
   "execution_count": 10,
   "metadata": {
    "ExecuteTime": {
     "end_time": "2020-11-13T15:14:51.758636Z",
     "start_time": "2020-11-13T15:14:51.753072Z"
    }
   },
   "outputs": [
    {
     "data": {
      "text/plain": [
       "3.92"
      ]
     },
     "execution_count": 10,
     "metadata": {},
     "output_type": "execute_result"
    }
   ],
   "source": [
    "b28 = 3\n",
    "b29 = 0.62\n",
    "b30 = 0.3\n",
    "b31 = 0\n",
    "b32 = b28 + b29 + b30 + b31\n",
    "b32"
   ]
  },
  {
   "cell_type": "code",
   "execution_count": 12,
   "metadata": {
    "ExecuteTime": {
     "end_time": "2020-11-13T15:16:22.733126Z",
     "start_time": "2020-11-13T15:16:22.729605Z"
    }
   },
   "outputs": [],
   "source": [
    "b38 = 2\n",
    "b39 = 1\n",
    "b40 = 0\n",
    "b41 = 1"
   ]
  },
  {
   "cell_type": "code",
   "execution_count": 13,
   "metadata": {
    "ExecuteTime": {
     "end_time": "2020-11-13T15:16:24.076444Z",
     "start_time": "2020-11-13T15:16:24.072016Z"
    }
   },
   "outputs": [
    {
     "data": {
      "text/plain": [
       "59.10963541666665"
      ]
     },
     "execution_count": 13,
     "metadata": {},
     "output_type": "execute_result"
    }
   ],
   "source": [
    "b34 = e17 * (b28 + b31) * 1000 / 3600 / b38\n",
    "b34"
   ]
  },
  {
   "cell_type": "code",
   "execution_count": 15,
   "metadata": {
    "ExecuteTime": {
     "end_time": "2020-11-13T15:17:12.992599Z",
     "start_time": "2020-11-13T15:17:12.987664Z"
    }
   },
   "outputs": [
    {
     "data": {
      "text/plain": [
       "250.0"
      ]
     },
     "execution_count": 15,
     "metadata": {},
     "output_type": "execute_result"
    }
   ],
   "source": [
    "b43 = e15/0.305**2/b38\n",
    "b43"
   ]
  },
  {
   "cell_type": "code",
   "execution_count": 16,
   "metadata": {
    "ExecuteTime": {
     "end_time": "2020-11-13T15:17:35.905686Z",
     "start_time": "2020-11-13T15:17:35.901952Z"
    }
   },
   "outputs": [
    {
     "data": {
      "text/plain": [
       "0.042999193765116905"
      ]
     },
     "execution_count": 16,
     "metadata": {},
     "output_type": "execute_result"
    }
   ],
   "source": [
    "b44 = b38 / e15\n",
    "b44"
   ]
  },
  {
   "cell_type": "code",
   "execution_count": 17,
   "metadata": {
    "ExecuteTime": {
     "end_time": "2020-11-13T15:17:51.246323Z",
     "start_time": "2020-11-13T15:17:51.241833Z"
    }
   },
   "outputs": [
    {
     "data": {
      "text/plain": [
       "70.93156249999998"
      ]
     },
     "execution_count": 17,
     "metadata": {},
     "output_type": "execute_result"
    }
   ],
   "source": [
    "b45 = e17 / b38\n",
    "b45"
   ]
  },
  {
   "cell_type": "code",
   "execution_count": 18,
   "metadata": {
    "ExecuteTime": {
     "end_time": "2020-11-13T15:18:20.122206Z",
     "start_time": "2020-11-13T15:18:20.119909Z"
    }
   },
   "outputs": [],
   "source": [
    "b47 = 0.0086 * 60"
   ]
  },
  {
   "cell_type": "code",
   "execution_count": 19,
   "metadata": {
    "ExecuteTime": {
     "end_time": "2020-11-13T15:19:18.221493Z",
     "start_time": "2020-11-13T15:19:18.216453Z"
    }
   },
   "outputs": [
    {
     "data": {
      "text/plain": [
       "0.0112970509744983"
      ]
     },
     "execution_count": 19,
     "metadata": {},
     "output_type": "execute_result"
    }
   ],
   "source": [
    "b48 = 0.005\n",
    "b49 = b48 * b38 * (1/b19) * (273.15+b20) / 273.15\n",
    "b49"
   ]
  },
  {
   "cell_type": "code",
   "execution_count": 23,
   "metadata": {
    "ExecuteTime": {
     "end_time": "2020-11-13T15:28:07.411209Z",
     "start_time": "2020-11-13T15:28:07.408036Z"
    }
   },
   "outputs": [],
   "source": [
    "b51 = 25\n",
    "b52 = .5\n",
    "b53 = 1\n",
    "b54 = .3"
   ]
  },
  {
   "cell_type": "code",
   "execution_count": 25,
   "metadata": {
    "ExecuteTime": {
     "end_time": "2020-11-13T15:28:25.552195Z",
     "start_time": "2020-11-13T15:28:25.549618Z"
    }
   },
   "outputs": [],
   "source": [
    "b58 = 0.002\n",
    "b60 = .2\n",
    "b61 = .01"
   ]
  },
  {
   "cell_type": "code",
   "execution_count": 24,
   "metadata": {
    "ExecuteTime": {
     "end_time": "2020-11-13T15:28:12.020807Z",
     "start_time": "2020-11-13T15:28:12.016144Z"
    }
   },
   "outputs": [
    {
     "data": {
      "text/plain": [
       "12.5"
      ]
     },
     "execution_count": 24,
     "metadata": {},
     "output_type": "execute_result"
    }
   ],
   "source": [
    "b66 = b51 * (1 - b52 * b53) * b39\n",
    "b66"
   ]
  },
  {
   "cell_type": "code",
   "execution_count": 26,
   "metadata": {
    "ExecuteTime": {
     "end_time": "2020-11-13T15:29:29.907065Z",
     "start_time": "2020-11-13T15:29:29.904400Z"
    }
   },
   "outputs": [],
   "source": [
    "import math"
   ]
  },
  {
   "cell_type": "code",
   "execution_count": 27,
   "metadata": {
    "ExecuteTime": {
     "end_time": "2020-11-13T15:30:14.927260Z",
     "start_time": "2020-11-13T15:30:14.921401Z"
    }
   },
   "outputs": [
    {
     "data": {
      "text/plain": [
       "0.015859257354246054"
      ]
     },
     "execution_count": 27,
     "metadata": {},
     "output_type": "execute_result"
    }
   ],
   "source": [
    "b67 = b66/b32/e17 * (1-(1/b32/e24) * (1 - math.exp(-1 * b32 * e24)))\n",
    "b67"
   ]
  },
  {
   "cell_type": "code",
   "execution_count": 28,
   "metadata": {
    "ExecuteTime": {
     "end_time": "2020-11-13T15:30:58.229052Z",
     "start_time": "2020-11-13T15:30:58.224628Z"
    }
   },
   "outputs": [
    {
     "data": {
      "text/plain": [
       "0.0047736364636280625"
      ]
     },
     "execution_count": 28,
     "metadata": {},
     "output_type": "execute_result"
    }
   ],
   "source": [
    "b68 = b67 * b47 * e24 * (1 - b54 * b53)\n",
    "b68"
   ]
  },
  {
   "cell_type": "code",
   "execution_count": 29,
   "metadata": {
    "ExecuteTime": {
     "end_time": "2020-11-13T15:33:58.945837Z",
     "start_time": "2020-11-13T15:33:58.942172Z"
    }
   },
   "outputs": [
    {
     "data": {
      "text/plain": [
       "0.0047622607694258745"
      ]
     },
     "execution_count": 29,
     "metadata": {},
     "output_type": "execute_result"
    }
   ],
   "source": [
    "b71 = 1 - math.exp(-1 * b68)\n",
    "b71"
   ]
  },
  {
   "cell_type": "code",
   "execution_count": 30,
   "metadata": {
    "ExecuteTime": {
     "end_time": "2020-11-13T15:34:18.368729Z",
     "start_time": "2020-11-13T15:34:18.365266Z"
    }
   },
   "outputs": [
    {
     "data": {
      "text/plain": [
       "0.0009524521538851749"
      ]
     },
     "execution_count": 30,
     "metadata": {},
     "output_type": "execute_result"
    }
   ],
   "source": [
    "b72 = b71 * b60\n",
    "b72"
   ]
  },
  {
   "cell_type": "code",
   "execution_count": 31,
   "metadata": {
    "ExecuteTime": {
     "end_time": "2020-11-16T17:39:47.901345Z",
     "start_time": "2020-11-16T17:39:47.872195Z"
    }
   },
   "outputs": [
    {
     "data": {
      "text/plain": [
       "4.7622607694258744e-05"
      ]
     },
     "execution_count": 31,
     "metadata": {},
     "output_type": "execute_result"
    }
   ],
   "source": [
    "b73 = b71 * b61\n",
    "b73"
   ]
  },
  {
   "cell_type": "code",
   "execution_count": null,
   "metadata": {},
   "outputs": [],
   "source": []
  }
 ],
 "metadata": {
  "kernelspec": {
   "display_name": "Python 3",
   "language": "python",
   "name": "python3"
  },
  "language_info": {
   "codemirror_mode": {
    "name": "ipython",
    "version": 3
   },
   "file_extension": ".py",
   "mimetype": "text/x-python",
   "name": "python",
   "nbconvert_exporter": "python",
   "pygments_lexer": "ipython3",
   "version": "3.7.8"
  }
 },
 "nbformat": 4,
 "nbformat_minor": 4
}

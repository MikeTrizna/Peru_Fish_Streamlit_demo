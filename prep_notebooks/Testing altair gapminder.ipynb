{
 "cells": [
  {
   "cell_type": "code",
   "execution_count": 1,
   "metadata": {
    "ExecuteTime": {
     "end_time": "2021-05-26T15:36:26.587189Z",
     "start_time": "2021-05-26T15:36:23.602795Z"
    }
   },
   "outputs": [],
   "source": [
    "import pandas as pd\n",
    "import altair as alt"
   ]
  },
  {
   "cell_type": "code",
   "execution_count": 2,
   "metadata": {
    "ExecuteTime": {
     "end_time": "2021-05-26T15:36:26.794698Z",
     "start_time": "2021-05-26T15:36:26.588774Z"
    }
   },
   "outputs": [
    {
     "data": {
      "text/html": [
       "<div>\n",
       "<style scoped>\n",
       "    .dataframe tbody tr th:only-of-type {\n",
       "        vertical-align: middle;\n",
       "    }\n",
       "\n",
       "    .dataframe tbody tr th {\n",
       "        vertical-align: top;\n",
       "    }\n",
       "\n",
       "    .dataframe thead th {\n",
       "        text-align: right;\n",
       "    }\n",
       "</style>\n",
       "<table border=\"1\" class=\"dataframe\">\n",
       "  <thead>\n",
       "    <tr style=\"text-align: right;\">\n",
       "      <th></th>\n",
       "      <th>country</th>\n",
       "      <th>continent</th>\n",
       "      <th>year</th>\n",
       "      <th>lifeExp</th>\n",
       "      <th>pop</th>\n",
       "      <th>gdpPercap</th>\n",
       "      <th>iso_alpha</th>\n",
       "      <th>iso_num</th>\n",
       "    </tr>\n",
       "  </thead>\n",
       "  <tbody>\n",
       "    <tr>\n",
       "      <th>0</th>\n",
       "      <td>Afghanistan</td>\n",
       "      <td>Asia</td>\n",
       "      <td>1952</td>\n",
       "      <td>28.801</td>\n",
       "      <td>8425333</td>\n",
       "      <td>779.445</td>\n",
       "      <td>AFG</td>\n",
       "      <td>4</td>\n",
       "    </tr>\n",
       "    <tr>\n",
       "      <th>1</th>\n",
       "      <td>Afghanistan</td>\n",
       "      <td>Asia</td>\n",
       "      <td>1957</td>\n",
       "      <td>30.332</td>\n",
       "      <td>9240934</td>\n",
       "      <td>820.853</td>\n",
       "      <td>AFG</td>\n",
       "      <td>4</td>\n",
       "    </tr>\n",
       "    <tr>\n",
       "      <th>2</th>\n",
       "      <td>Afghanistan</td>\n",
       "      <td>Asia</td>\n",
       "      <td>1962</td>\n",
       "      <td>31.997</td>\n",
       "      <td>10267083</td>\n",
       "      <td>853.101</td>\n",
       "      <td>AFG</td>\n",
       "      <td>4</td>\n",
       "    </tr>\n",
       "    <tr>\n",
       "      <th>3</th>\n",
       "      <td>Afghanistan</td>\n",
       "      <td>Asia</td>\n",
       "      <td>1967</td>\n",
       "      <td>34.020</td>\n",
       "      <td>11537966</td>\n",
       "      <td>836.197</td>\n",
       "      <td>AFG</td>\n",
       "      <td>4</td>\n",
       "    </tr>\n",
       "    <tr>\n",
       "      <th>4</th>\n",
       "      <td>Afghanistan</td>\n",
       "      <td>Asia</td>\n",
       "      <td>1972</td>\n",
       "      <td>36.088</td>\n",
       "      <td>13079460</td>\n",
       "      <td>739.981</td>\n",
       "      <td>AFG</td>\n",
       "      <td>4</td>\n",
       "    </tr>\n",
       "  </tbody>\n",
       "</table>\n",
       "</div>"
      ],
      "text/plain": [
       "       country continent  year  lifeExp       pop  gdpPercap iso_alpha  \\\n",
       "0  Afghanistan      Asia  1952   28.801   8425333    779.445       AFG   \n",
       "1  Afghanistan      Asia  1957   30.332   9240934    820.853       AFG   \n",
       "2  Afghanistan      Asia  1962   31.997  10267083    853.101       AFG   \n",
       "3  Afghanistan      Asia  1967   34.020  11537966    836.197       AFG   \n",
       "4  Afghanistan      Asia  1972   36.088  13079460    739.981       AFG   \n",
       "\n",
       "   iso_num  \n",
       "0        4  \n",
       "1        4  \n",
       "2        4  \n",
       "3        4  \n",
       "4        4  "
      ]
     },
     "execution_count": 2,
     "metadata": {},
     "output_type": "execute_result"
    }
   ],
   "source": [
    "df = pd.read_csv('https://raw.githubusercontent.com/MikeTrizna/binder_demo/master/gapminder_data.tsv',\n",
    "                 sep='\\t')\n",
    "df.head()"
   ]
  },
  {
   "cell_type": "code",
   "execution_count": 3,
   "metadata": {
    "ExecuteTime": {
     "end_time": "2021-05-26T15:36:26.803828Z",
     "start_time": "2021-05-26T15:36:26.799655Z"
    }
   },
   "outputs": [],
   "source": [
    "df_2007 = df[df['year'] == 2007]"
   ]
  },
  {
   "cell_type": "code",
   "execution_count": 4,
   "metadata": {
    "ExecuteTime": {
     "end_time": "2021-05-26T15:36:26.853520Z",
     "start_time": "2021-05-26T15:36:26.805208Z"
    }
   },
   "outputs": [
    {
     "data": {
      "text/html": [
       "\n",
       "<div id=\"altair-viz-8bcd59f15d4c4a0490a75a63251b423e\"></div>\n",
       "<script type=\"text/javascript\">\n",
       "  (function(spec, embedOpt){\n",
       "    let outputDiv = document.currentScript.previousElementSibling;\n",
       "    if (outputDiv.id !== \"altair-viz-8bcd59f15d4c4a0490a75a63251b423e\") {\n",
       "      outputDiv = document.getElementById(\"altair-viz-8bcd59f15d4c4a0490a75a63251b423e\");\n",
       "    }\n",
       "    const paths = {\n",
       "      \"vega\": \"https://cdn.jsdelivr.net/npm//vega@5?noext\",\n",
       "      \"vega-lib\": \"https://cdn.jsdelivr.net/npm//vega-lib?noext\",\n",
       "      \"vega-lite\": \"https://cdn.jsdelivr.net/npm//vega-lite@4.8.1?noext\",\n",
       "      \"vega-embed\": \"https://cdn.jsdelivr.net/npm//vega-embed@6?noext\",\n",
       "    };\n",
       "\n",
       "    function loadScript(lib) {\n",
       "      return new Promise(function(resolve, reject) {\n",
       "        var s = document.createElement('script');\n",
       "        s.src = paths[lib];\n",
       "        s.async = true;\n",
       "        s.onload = () => resolve(paths[lib]);\n",
       "        s.onerror = () => reject(`Error loading script: ${paths[lib]}`);\n",
       "        document.getElementsByTagName(\"head\")[0].appendChild(s);\n",
       "      });\n",
       "    }\n",
       "\n",
       "    function showError(err) {\n",
       "      outputDiv.innerHTML = `<div class=\"error\" style=\"color:red;\">${err}</div>`;\n",
       "      throw err;\n",
       "    }\n",
       "\n",
       "    function displayChart(vegaEmbed) {\n",
       "      vegaEmbed(outputDiv, spec, embedOpt)\n",
       "        .catch(err => showError(`Javascript Error: ${err.message}<br>This usually means there's a typo in your chart specification. See the javascript console for the full traceback.`));\n",
       "    }\n",
       "\n",
       "    if(typeof define === \"function\" && define.amd) {\n",
       "      requirejs.config({paths});\n",
       "      require([\"vega-embed\"], displayChart, err => showError(`Error loading script: ${err.message}`));\n",
       "    } else if (typeof vegaEmbed === \"function\") {\n",
       "      displayChart(vegaEmbed);\n",
       "    } else {\n",
       "      loadScript(\"vega\")\n",
       "        .then(() => loadScript(\"vega-lite\"))\n",
       "        .then(() => loadScript(\"vega-embed\"))\n",
       "        .catch(showError)\n",
       "        .then(() => displayChart(vegaEmbed));\n",
       "    }\n",
       "  })({\"config\": {\"view\": {\"continuousWidth\": 400, \"continuousHeight\": 300}}, \"data\": {\"name\": \"data-37801a66f923d36fc2d2939006383fd4\"}, \"mark\": \"circle\", \"encoding\": {\"color\": {\"type\": \"nominal\", \"field\": \"continent\"}, \"size\": {\"type\": \"quantitative\", \"field\": \"pop\"}, \"tooltip\": [{\"type\": \"nominal\", \"field\": \"country\"}, {\"type\": \"quantitative\", \"field\": \"lifeExp\"}, {\"type\": \"quantitative\", \"field\": \"pop\"}, {\"type\": \"quantitative\", \"field\": \"gdpPercap\"}], \"x\": {\"type\": \"quantitative\", \"field\": \"gdpPercap\", \"scale\": {\"domain\": [100, 100000], \"type\": \"log\"}}, \"y\": {\"type\": \"quantitative\", \"field\": \"lifeExp\", \"scale\": {\"domain\": [25, 90]}}}, \"selection\": {\"selector001\": {\"type\": \"interval\", \"bind\": \"scales\", \"encodings\": [\"x\", \"y\"]}}, \"title\": \"2007\", \"$schema\": \"https://vega.github.io/schema/vega-lite/v4.8.1.json\", \"datasets\": {\"data-37801a66f923d36fc2d2939006383fd4\": [{\"country\": \"Afghanistan\", \"continent\": \"Asia\", \"year\": 2007, \"lifeExp\": 43.828, \"pop\": 31889923, \"gdpPercap\": 974.58, \"iso_alpha\": \"AFG\", \"iso_num\": 4}, {\"country\": \"Albania\", \"continent\": \"Europe\", \"year\": 2007, \"lifeExp\": 76.423, \"pop\": 3600523, \"gdpPercap\": 5937.03, \"iso_alpha\": \"ALB\", \"iso_num\": 8}, {\"country\": \"Algeria\", \"continent\": \"Africa\", \"year\": 2007, \"lifeExp\": 72.301, \"pop\": 33333216, \"gdpPercap\": 6223.366999999999, \"iso_alpha\": \"DZA\", \"iso_num\": 12}, {\"country\": \"Angola\", \"continent\": \"Africa\", \"year\": 2007, \"lifeExp\": 42.731, \"pop\": 12420476, \"gdpPercap\": 4797.231, \"iso_alpha\": \"AGO\", \"iso_num\": 24}, {\"country\": \"Argentina\", \"continent\": \"Americas\", \"year\": 2007, \"lifeExp\": 75.32, \"pop\": 40301927, \"gdpPercap\": 12779.38, \"iso_alpha\": \"ARG\", \"iso_num\": 32}, {\"country\": \"Australia\", \"continent\": \"Oceania\", \"year\": 2007, \"lifeExp\": 81.235, \"pop\": 20434176, \"gdpPercap\": 34435.367, \"iso_alpha\": \"AUS\", \"iso_num\": 36}, {\"country\": \"Austria\", \"continent\": \"Europe\", \"year\": 2007, \"lifeExp\": 79.829, \"pop\": 8199783, \"gdpPercap\": 36126.492999999995, \"iso_alpha\": \"AUT\", \"iso_num\": 40}, {\"country\": \"Bahrain\", \"continent\": \"Asia\", \"year\": 2007, \"lifeExp\": 75.635, \"pop\": 708573, \"gdpPercap\": 29796.048, \"iso_alpha\": \"BHR\", \"iso_num\": 48}, {\"country\": \"Bangladesh\", \"continent\": \"Asia\", \"year\": 2007, \"lifeExp\": 64.062, \"pop\": 150448339, \"gdpPercap\": 1391.254, \"iso_alpha\": \"BGD\", \"iso_num\": 50}, {\"country\": \"Belgium\", \"continent\": \"Europe\", \"year\": 2007, \"lifeExp\": 79.441, \"pop\": 10392226, \"gdpPercap\": 33692.605, \"iso_alpha\": \"BEL\", \"iso_num\": 56}, {\"country\": \"Benin\", \"continent\": \"Africa\", \"year\": 2007, \"lifeExp\": 56.728, \"pop\": 8078314, \"gdpPercap\": 1441.285, \"iso_alpha\": \"BEN\", \"iso_num\": 204}, {\"country\": \"Bolivia\", \"continent\": \"Americas\", \"year\": 2007, \"lifeExp\": 65.554, \"pop\": 9119152, \"gdpPercap\": 3822.137, \"iso_alpha\": \"BOL\", \"iso_num\": 68}, {\"country\": \"Bosnia and Herzegovina\", \"continent\": \"Europe\", \"year\": 2007, \"lifeExp\": 74.852, \"pop\": 4552198, \"gdpPercap\": 7446.299, \"iso_alpha\": \"BIH\", \"iso_num\": 70}, {\"country\": \"Botswana\", \"continent\": \"Africa\", \"year\": 2007, \"lifeExp\": 50.728, \"pop\": 1639131, \"gdpPercap\": 12569.851999999999, \"iso_alpha\": \"BWA\", \"iso_num\": 72}, {\"country\": \"Brazil\", \"continent\": \"Americas\", \"year\": 2007, \"lifeExp\": 72.39, \"pop\": 190010647, \"gdpPercap\": 9065.801, \"iso_alpha\": \"BRA\", \"iso_num\": 76}, {\"country\": \"Bulgaria\", \"continent\": \"Europe\", \"year\": 2007, \"lifeExp\": 73.005, \"pop\": 7322858, \"gdpPercap\": 10680.793, \"iso_alpha\": \"BGR\", \"iso_num\": 100}, {\"country\": \"Burkina Faso\", \"continent\": \"Africa\", \"year\": 2007, \"lifeExp\": 52.295, \"pop\": 14326203, \"gdpPercap\": 1217.0330000000001, \"iso_alpha\": \"BFA\", \"iso_num\": 854}, {\"country\": \"Burundi\", \"continent\": \"Africa\", \"year\": 2007, \"lifeExp\": 49.58, \"pop\": 8390505, \"gdpPercap\": 430.07099999999997, \"iso_alpha\": \"BDI\", \"iso_num\": 108}, {\"country\": \"Cambodia\", \"continent\": \"Asia\", \"year\": 2007, \"lifeExp\": 59.723, \"pop\": 14131858, \"gdpPercap\": 1713.779, \"iso_alpha\": \"KHM\", \"iso_num\": 116}, {\"country\": \"Cameroon\", \"continent\": \"Africa\", \"year\": 2007, \"lifeExp\": 50.43, \"pop\": 17696293, \"gdpPercap\": 2042.095, \"iso_alpha\": \"CMR\", \"iso_num\": 120}, {\"country\": \"Canada\", \"continent\": \"Americas\", \"year\": 2007, \"lifeExp\": 80.653, \"pop\": 33390141, \"gdpPercap\": 36319.235, \"iso_alpha\": \"CAN\", \"iso_num\": 124}, {\"country\": \"Central African Republic\", \"continent\": \"Africa\", \"year\": 2007, \"lifeExp\": 44.74100000000001, \"pop\": 4369038, \"gdpPercap\": 706.0169999999999, \"iso_alpha\": \"CAF\", \"iso_num\": 140}, {\"country\": \"Chad\", \"continent\": \"Africa\", \"year\": 2007, \"lifeExp\": 50.651, \"pop\": 10238807, \"gdpPercap\": 1704.0639999999999, \"iso_alpha\": \"TCD\", \"iso_num\": 148}, {\"country\": \"Chile\", \"continent\": \"Americas\", \"year\": 2007, \"lifeExp\": 78.553, \"pop\": 16284741, \"gdpPercap\": 13171.639, \"iso_alpha\": \"CHL\", \"iso_num\": 152}, {\"country\": \"China\", \"continent\": \"Asia\", \"year\": 2007, \"lifeExp\": 72.961, \"pop\": 1318683096, \"gdpPercap\": 4959.115, \"iso_alpha\": \"CHN\", \"iso_num\": 156}, {\"country\": \"Colombia\", \"continent\": \"Americas\", \"year\": 2007, \"lifeExp\": 72.889, \"pop\": 44227550, \"gdpPercap\": 7006.58, \"iso_alpha\": \"COL\", \"iso_num\": 170}, {\"country\": \"Comoros\", \"continent\": \"Africa\", \"year\": 2007, \"lifeExp\": 65.152, \"pop\": 710960, \"gdpPercap\": 986.148, \"iso_alpha\": \"COM\", \"iso_num\": 174}, {\"country\": \"Congo, Dem. Rep.\", \"continent\": \"Africa\", \"year\": 2007, \"lifeExp\": 46.461999999999996, \"pop\": 64606759, \"gdpPercap\": 277.552, \"iso_alpha\": \"COD\", \"iso_num\": 180}, {\"country\": \"Congo, Rep.\", \"continent\": \"Africa\", \"year\": 2007, \"lifeExp\": 55.321999999999996, \"pop\": 3800610, \"gdpPercap\": 3632.558, \"iso_alpha\": \"COG\", \"iso_num\": 178}, {\"country\": \"Costa Rica\", \"continent\": \"Americas\", \"year\": 2007, \"lifeExp\": 78.782, \"pop\": 4133884, \"gdpPercap\": 9645.061, \"iso_alpha\": \"CRI\", \"iso_num\": 188}, {\"country\": \"Cote d'Ivoire\", \"continent\": \"Africa\", \"year\": 2007, \"lifeExp\": 48.328, \"pop\": 18013409, \"gdpPercap\": 1544.75, \"iso_alpha\": \"CIV\", \"iso_num\": 384}, {\"country\": \"Croatia\", \"continent\": \"Europe\", \"year\": 2007, \"lifeExp\": 75.748, \"pop\": 4493312, \"gdpPercap\": 14619.223, \"iso_alpha\": \"HRV\", \"iso_num\": 191}, {\"country\": \"Cuba\", \"continent\": \"Americas\", \"year\": 2007, \"lifeExp\": 78.273, \"pop\": 11416987, \"gdpPercap\": 8948.103000000001, \"iso_alpha\": \"CUB\", \"iso_num\": 192}, {\"country\": \"Czech Republic\", \"continent\": \"Europe\", \"year\": 2007, \"lifeExp\": 76.486, \"pop\": 10228744, \"gdpPercap\": 22833.308999999997, \"iso_alpha\": \"CZE\", \"iso_num\": 203}, {\"country\": \"Denmark\", \"continent\": \"Europe\", \"year\": 2007, \"lifeExp\": 78.332, \"pop\": 5468120, \"gdpPercap\": 35278.419, \"iso_alpha\": \"DNK\", \"iso_num\": 208}, {\"country\": \"Djibouti\", \"continent\": \"Africa\", \"year\": 2007, \"lifeExp\": 54.791000000000004, \"pop\": 496374, \"gdpPercap\": 2082.482, \"iso_alpha\": \"DJI\", \"iso_num\": 262}, {\"country\": \"Dominican Republic\", \"continent\": \"Americas\", \"year\": 2007, \"lifeExp\": 72.235, \"pop\": 9319622, \"gdpPercap\": 6025.375, \"iso_alpha\": \"DOM\", \"iso_num\": 214}, {\"country\": \"Ecuador\", \"continent\": \"Americas\", \"year\": 2007, \"lifeExp\": 74.994, \"pop\": 13755680, \"gdpPercap\": 6873.262, \"iso_alpha\": \"ECU\", \"iso_num\": 218}, {\"country\": \"Egypt\", \"continent\": \"Africa\", \"year\": 2007, \"lifeExp\": 71.33800000000001, \"pop\": 80264543, \"gdpPercap\": 5581.181, \"iso_alpha\": \"EGY\", \"iso_num\": 818}, {\"country\": \"El Salvador\", \"continent\": \"Americas\", \"year\": 2007, \"lifeExp\": 71.878, \"pop\": 6939688, \"gdpPercap\": 5728.354, \"iso_alpha\": \"SLV\", \"iso_num\": 222}, {\"country\": \"Equatorial Guinea\", \"continent\": \"Africa\", \"year\": 2007, \"lifeExp\": 51.57899999999999, \"pop\": 551201, \"gdpPercap\": 12154.09, \"iso_alpha\": \"GNQ\", \"iso_num\": 226}, {\"country\": \"Eritrea\", \"continent\": \"Africa\", \"year\": 2007, \"lifeExp\": 58.04, \"pop\": 4906585, \"gdpPercap\": 641.37, \"iso_alpha\": \"ERI\", \"iso_num\": 232}, {\"country\": \"Ethiopia\", \"continent\": \"Africa\", \"year\": 2007, \"lifeExp\": 52.946999999999996, \"pop\": 76511887, \"gdpPercap\": 690.806, \"iso_alpha\": \"ETH\", \"iso_num\": 231}, {\"country\": \"Finland\", \"continent\": \"Europe\", \"year\": 2007, \"lifeExp\": 79.313, \"pop\": 5238460, \"gdpPercap\": 33207.084, \"iso_alpha\": \"FIN\", \"iso_num\": 246}, {\"country\": \"France\", \"continent\": \"Europe\", \"year\": 2007, \"lifeExp\": 80.657, \"pop\": 61083916, \"gdpPercap\": 30470.017000000003, \"iso_alpha\": \"FRA\", \"iso_num\": 250}, {\"country\": \"Gabon\", \"continent\": \"Africa\", \"year\": 2007, \"lifeExp\": 56.735, \"pop\": 1454867, \"gdpPercap\": 13206.485, \"iso_alpha\": \"GAB\", \"iso_num\": 266}, {\"country\": \"Gambia\", \"continent\": \"Africa\", \"year\": 2007, \"lifeExp\": 59.448, \"pop\": 1688359, \"gdpPercap\": 752.75, \"iso_alpha\": \"GMB\", \"iso_num\": 270}, {\"country\": \"Germany\", \"continent\": \"Europe\", \"year\": 2007, \"lifeExp\": 79.406, \"pop\": 82400996, \"gdpPercap\": 32170.374, \"iso_alpha\": \"DEU\", \"iso_num\": 276}, {\"country\": \"Ghana\", \"continent\": \"Africa\", \"year\": 2007, \"lifeExp\": 60.022, \"pop\": 22873338, \"gdpPercap\": 1327.609, \"iso_alpha\": \"GHA\", \"iso_num\": 288}, {\"country\": \"Greece\", \"continent\": \"Europe\", \"year\": 2007, \"lifeExp\": 79.483, \"pop\": 10706290, \"gdpPercap\": 27538.412, \"iso_alpha\": \"GRC\", \"iso_num\": 300}, {\"country\": \"Guatemala\", \"continent\": \"Americas\", \"year\": 2007, \"lifeExp\": 70.259, \"pop\": 12572928, \"gdpPercap\": 5186.05, \"iso_alpha\": \"GTM\", \"iso_num\": 320}, {\"country\": \"Guinea\", \"continent\": \"Africa\", \"year\": 2007, \"lifeExp\": 56.007, \"pop\": 9947814, \"gdpPercap\": 942.654, \"iso_alpha\": \"GIN\", \"iso_num\": 324}, {\"country\": \"Guinea-Bissau\", \"continent\": \"Africa\", \"year\": 2007, \"lifeExp\": 46.388000000000005, \"pop\": 1472041, \"gdpPercap\": 579.232, \"iso_alpha\": \"GNB\", \"iso_num\": 624}, {\"country\": \"Haiti\", \"continent\": \"Americas\", \"year\": 2007, \"lifeExp\": 60.916000000000004, \"pop\": 8502814, \"gdpPercap\": 1201.637, \"iso_alpha\": \"HTI\", \"iso_num\": 332}, {\"country\": \"Honduras\", \"continent\": \"Americas\", \"year\": 2007, \"lifeExp\": 70.19800000000001, \"pop\": 7483763, \"gdpPercap\": 3548.3309999999997, \"iso_alpha\": \"HND\", \"iso_num\": 340}, {\"country\": \"Hong Kong, China\", \"continent\": \"Asia\", \"year\": 2007, \"lifeExp\": 82.208, \"pop\": 6980412, \"gdpPercap\": 39724.979, \"iso_alpha\": \"HKG\", \"iso_num\": 344}, {\"country\": \"Hungary\", \"continent\": \"Europe\", \"year\": 2007, \"lifeExp\": 73.33800000000001, \"pop\": 9956108, \"gdpPercap\": 18008.944, \"iso_alpha\": \"HUN\", \"iso_num\": 348}, {\"country\": \"Iceland\", \"continent\": \"Europe\", \"year\": 2007, \"lifeExp\": 81.757, \"pop\": 301931, \"gdpPercap\": 36180.789, \"iso_alpha\": \"ISL\", \"iso_num\": 352}, {\"country\": \"India\", \"continent\": \"Asia\", \"year\": 2007, \"lifeExp\": 64.69800000000001, \"pop\": 1110396331, \"gdpPercap\": 2452.21, \"iso_alpha\": \"IND\", \"iso_num\": 356}, {\"country\": \"Indonesia\", \"continent\": \"Asia\", \"year\": 2007, \"lifeExp\": 70.65, \"pop\": 223547000, \"gdpPercap\": 3540.652, \"iso_alpha\": \"IDN\", \"iso_num\": 360}, {\"country\": \"Iran\", \"continent\": \"Asia\", \"year\": 2007, \"lifeExp\": 70.964, \"pop\": 69453570, \"gdpPercap\": 11605.714, \"iso_alpha\": \"IRN\", \"iso_num\": 364}, {\"country\": \"Iraq\", \"continent\": \"Asia\", \"year\": 2007, \"lifeExp\": 59.545, \"pop\": 27499638, \"gdpPercap\": 4471.062, \"iso_alpha\": \"IRQ\", \"iso_num\": 368}, {\"country\": \"Ireland\", \"continent\": \"Europe\", \"year\": 2007, \"lifeExp\": 78.885, \"pop\": 4109086, \"gdpPercap\": 40675.996, \"iso_alpha\": \"IRL\", \"iso_num\": 372}, {\"country\": \"Israel\", \"continent\": \"Asia\", \"year\": 2007, \"lifeExp\": 80.745, \"pop\": 6426679, \"gdpPercap\": 25523.277000000002, \"iso_alpha\": \"ISR\", \"iso_num\": 376}, {\"country\": \"Italy\", \"continent\": \"Europe\", \"year\": 2007, \"lifeExp\": 80.546, \"pop\": 58147733, \"gdpPercap\": 28569.72, \"iso_alpha\": \"ITA\", \"iso_num\": 380}, {\"country\": \"Jamaica\", \"continent\": \"Americas\", \"year\": 2007, \"lifeExp\": 72.567, \"pop\": 2780132, \"gdpPercap\": 7320.88, \"iso_alpha\": \"JAM\", \"iso_num\": 388}, {\"country\": \"Japan\", \"continent\": \"Asia\", \"year\": 2007, \"lifeExp\": 82.603, \"pop\": 127467972, \"gdpPercap\": 31656.068, \"iso_alpha\": \"JPN\", \"iso_num\": 392}, {\"country\": \"Jordan\", \"continent\": \"Asia\", \"year\": 2007, \"lifeExp\": 72.535, \"pop\": 6053193, \"gdpPercap\": 4519.460999999999, \"iso_alpha\": \"JOR\", \"iso_num\": 400}, {\"country\": \"Kenya\", \"continent\": \"Africa\", \"year\": 2007, \"lifeExp\": 54.11, \"pop\": 35610177, \"gdpPercap\": 1463.249, \"iso_alpha\": \"KEN\", \"iso_num\": 404}, {\"country\": \"Korea, Dem. Rep.\", \"continent\": \"Asia\", \"year\": 2007, \"lifeExp\": 67.297, \"pop\": 23301725, \"gdpPercap\": 1593.065, \"iso_alpha\": \"KOR\", \"iso_num\": 410}, {\"country\": \"Korea, Rep.\", \"continent\": \"Asia\", \"year\": 2007, \"lifeExp\": 78.623, \"pop\": 49044790, \"gdpPercap\": 23348.14, \"iso_alpha\": \"KOR\", \"iso_num\": 410}, {\"country\": \"Kuwait\", \"continent\": \"Asia\", \"year\": 2007, \"lifeExp\": 77.58800000000001, \"pop\": 2505559, \"gdpPercap\": 47306.99, \"iso_alpha\": \"KWT\", \"iso_num\": 414}, {\"country\": \"Lebanon\", \"continent\": \"Asia\", \"year\": 2007, \"lifeExp\": 71.993, \"pop\": 3921278, \"gdpPercap\": 10461.059000000001, \"iso_alpha\": \"LBN\", \"iso_num\": 422}, {\"country\": \"Lesotho\", \"continent\": \"Africa\", \"year\": 2007, \"lifeExp\": 42.592, \"pop\": 2012649, \"gdpPercap\": 1569.3310000000001, \"iso_alpha\": \"LSO\", \"iso_num\": 426}, {\"country\": \"Liberia\", \"continent\": \"Africa\", \"year\": 2007, \"lifeExp\": 45.678000000000004, \"pop\": 3193942, \"gdpPercap\": 414.50699999999995, \"iso_alpha\": \"LBR\", \"iso_num\": 430}, {\"country\": \"Libya\", \"continent\": \"Africa\", \"year\": 2007, \"lifeExp\": 73.952, \"pop\": 6036914, \"gdpPercap\": 12057.499, \"iso_alpha\": \"LBY\", \"iso_num\": 434}, {\"country\": \"Madagascar\", \"continent\": \"Africa\", \"year\": 2007, \"lifeExp\": 59.443000000000005, \"pop\": 19167654, \"gdpPercap\": 1044.77, \"iso_alpha\": \"MDG\", \"iso_num\": 450}, {\"country\": \"Malawi\", \"continent\": \"Africa\", \"year\": 2007, \"lifeExp\": 48.303000000000004, \"pop\": 13327079, \"gdpPercap\": 759.35, \"iso_alpha\": \"MWI\", \"iso_num\": 454}, {\"country\": \"Malaysia\", \"continent\": \"Asia\", \"year\": 2007, \"lifeExp\": 74.241, \"pop\": 24821286, \"gdpPercap\": 12451.656, \"iso_alpha\": \"MYS\", \"iso_num\": 458}, {\"country\": \"Mali\", \"continent\": \"Africa\", \"year\": 2007, \"lifeExp\": 54.467, \"pop\": 12031795, \"gdpPercap\": 1042.5819999999999, \"iso_alpha\": \"MLI\", \"iso_num\": 466}, {\"country\": \"Mauritania\", \"continent\": \"Africa\", \"year\": 2007, \"lifeExp\": 64.164, \"pop\": 3270065, \"gdpPercap\": 1803.151, \"iso_alpha\": \"MRT\", \"iso_num\": 478}, {\"country\": \"Mauritius\", \"continent\": \"Africa\", \"year\": 2007, \"lifeExp\": 72.801, \"pop\": 1250882, \"gdpPercap\": 10956.991000000002, \"iso_alpha\": \"MUS\", \"iso_num\": 480}, {\"country\": \"Mexico\", \"continent\": \"Americas\", \"year\": 2007, \"lifeExp\": 76.195, \"pop\": 108700891, \"gdpPercap\": 11977.575, \"iso_alpha\": \"MEX\", \"iso_num\": 484}, {\"country\": \"Mongolia\", \"continent\": \"Asia\", \"year\": 2007, \"lifeExp\": 66.803, \"pop\": 2874127, \"gdpPercap\": 3095.772, \"iso_alpha\": \"MNG\", \"iso_num\": 496}, {\"country\": \"Montenegro\", \"continent\": \"Europe\", \"year\": 2007, \"lifeExp\": 74.543, \"pop\": 684736, \"gdpPercap\": 9253.896, \"iso_alpha\": \"MNE\", \"iso_num\": 499}, {\"country\": \"Morocco\", \"continent\": \"Africa\", \"year\": 2007, \"lifeExp\": 71.164, \"pop\": 33757175, \"gdpPercap\": 3820.175, \"iso_alpha\": \"MAR\", \"iso_num\": 504}, {\"country\": \"Mozambique\", \"continent\": \"Africa\", \"year\": 2007, \"lifeExp\": 42.082, \"pop\": 19951656, \"gdpPercap\": 823.686, \"iso_alpha\": \"MOZ\", \"iso_num\": 508}, {\"country\": \"Myanmar\", \"continent\": \"Asia\", \"year\": 2007, \"lifeExp\": 62.068999999999996, \"pop\": 47761980, \"gdpPercap\": 944.0, \"iso_alpha\": \"MMR\", \"iso_num\": 104}, {\"country\": \"Namibia\", \"continent\": \"Africa\", \"year\": 2007, \"lifeExp\": 52.906000000000006, \"pop\": 2055080, \"gdpPercap\": 4811.06, \"iso_alpha\": \"NAM\", \"iso_num\": 516}, {\"country\": \"Nepal\", \"continent\": \"Asia\", \"year\": 2007, \"lifeExp\": 63.785, \"pop\": 28901790, \"gdpPercap\": 1091.36, \"iso_alpha\": \"NPL\", \"iso_num\": 524}, {\"country\": \"Netherlands\", \"continent\": \"Europe\", \"year\": 2007, \"lifeExp\": 79.762, \"pop\": 16570613, \"gdpPercap\": 36797.933, \"iso_alpha\": \"NLD\", \"iso_num\": 528}, {\"country\": \"New Zealand\", \"continent\": \"Oceania\", \"year\": 2007, \"lifeExp\": 80.204, \"pop\": 4115771, \"gdpPercap\": 25185.009, \"iso_alpha\": \"NZL\", \"iso_num\": 554}, {\"country\": \"Nicaragua\", \"continent\": \"Americas\", \"year\": 2007, \"lifeExp\": 72.899, \"pop\": 5675356, \"gdpPercap\": 2749.321, \"iso_alpha\": \"NIC\", \"iso_num\": 558}, {\"country\": \"Niger\", \"continent\": \"Africa\", \"year\": 2007, \"lifeExp\": 56.867, \"pop\": 12894865, \"gdpPercap\": 619.677, \"iso_alpha\": \"NER\", \"iso_num\": 562}, {\"country\": \"Nigeria\", \"continent\": \"Africa\", \"year\": 2007, \"lifeExp\": 46.858999999999995, \"pop\": 135031164, \"gdpPercap\": 2013.977, \"iso_alpha\": \"NGA\", \"iso_num\": 566}, {\"country\": \"Norway\", \"continent\": \"Europe\", \"year\": 2007, \"lifeExp\": 80.196, \"pop\": 4627926, \"gdpPercap\": 49357.19, \"iso_alpha\": \"NOR\", \"iso_num\": 578}, {\"country\": \"Oman\", \"continent\": \"Asia\", \"year\": 2007, \"lifeExp\": 75.64, \"pop\": 3204897, \"gdpPercap\": 22316.193, \"iso_alpha\": \"OMN\", \"iso_num\": 512}, {\"country\": \"Pakistan\", \"continent\": \"Asia\", \"year\": 2007, \"lifeExp\": 65.483, \"pop\": 169270617, \"gdpPercap\": 2605.948, \"iso_alpha\": \"PAK\", \"iso_num\": 586}, {\"country\": \"Panama\", \"continent\": \"Americas\", \"year\": 2007, \"lifeExp\": 75.53699999999999, \"pop\": 3242173, \"gdpPercap\": 9809.186, \"iso_alpha\": \"PAN\", \"iso_num\": 591}, {\"country\": \"Paraguay\", \"continent\": \"Americas\", \"year\": 2007, \"lifeExp\": 71.752, \"pop\": 6667147, \"gdpPercap\": 4172.838, \"iso_alpha\": \"PRY\", \"iso_num\": 600}, {\"country\": \"Peru\", \"continent\": \"Americas\", \"year\": 2007, \"lifeExp\": 71.421, \"pop\": 28674757, \"gdpPercap\": 7408.906, \"iso_alpha\": \"PER\", \"iso_num\": 604}, {\"country\": \"Philippines\", \"continent\": \"Asia\", \"year\": 2007, \"lifeExp\": 71.688, \"pop\": 91077287, \"gdpPercap\": 3190.4809999999998, \"iso_alpha\": \"PHL\", \"iso_num\": 608}, {\"country\": \"Poland\", \"continent\": \"Europe\", \"year\": 2007, \"lifeExp\": 75.563, \"pop\": 38518241, \"gdpPercap\": 15389.925, \"iso_alpha\": \"POL\", \"iso_num\": 616}, {\"country\": \"Portugal\", \"continent\": \"Europe\", \"year\": 2007, \"lifeExp\": 78.098, \"pop\": 10642836, \"gdpPercap\": 20509.648, \"iso_alpha\": \"PRT\", \"iso_num\": 620}, {\"country\": \"Puerto Rico\", \"continent\": \"Americas\", \"year\": 2007, \"lifeExp\": 78.74600000000001, \"pop\": 3942491, \"gdpPercap\": 19328.709, \"iso_alpha\": \"PRI\", \"iso_num\": 630}, {\"country\": \"Reunion\", \"continent\": \"Africa\", \"year\": 2007, \"lifeExp\": 76.442, \"pop\": 798094, \"gdpPercap\": 7670.1230000000005, \"iso_alpha\": \"REU\", \"iso_num\": 638}, {\"country\": \"Romania\", \"continent\": \"Europe\", \"year\": 2007, \"lifeExp\": 72.476, \"pop\": 22276056, \"gdpPercap\": 10808.476, \"iso_alpha\": \"ROU\", \"iso_num\": 642}, {\"country\": \"Rwanda\", \"continent\": \"Africa\", \"year\": 2007, \"lifeExp\": 46.242, \"pop\": 8860588, \"gdpPercap\": 863.0880000000001, \"iso_alpha\": \"RWA\", \"iso_num\": 646}, {\"country\": \"Sao Tome and Principe\", \"continent\": \"Africa\", \"year\": 2007, \"lifeExp\": 65.528, \"pop\": 199579, \"gdpPercap\": 1598.435, \"iso_alpha\": \"STP\", \"iso_num\": 678}, {\"country\": \"Saudi Arabia\", \"continent\": \"Asia\", \"year\": 2007, \"lifeExp\": 72.777, \"pop\": 27601038, \"gdpPercap\": 21654.832000000002, \"iso_alpha\": \"SAU\", \"iso_num\": 682}, {\"country\": \"Senegal\", \"continent\": \"Africa\", \"year\": 2007, \"lifeExp\": 63.062, \"pop\": 12267493, \"gdpPercap\": 1712.4720000000002, \"iso_alpha\": \"SEN\", \"iso_num\": 686}, {\"country\": \"Serbia\", \"continent\": \"Europe\", \"year\": 2007, \"lifeExp\": 74.002, \"pop\": 10150265, \"gdpPercap\": 9786.535, \"iso_alpha\": \"SRB\", \"iso_num\": 688}, {\"country\": \"Sierra Leone\", \"continent\": \"Africa\", \"year\": 2007, \"lifeExp\": 42.568000000000005, \"pop\": 6144562, \"gdpPercap\": 862.541, \"iso_alpha\": \"SLE\", \"iso_num\": 694}, {\"country\": \"Singapore\", \"continent\": \"Asia\", \"year\": 2007, \"lifeExp\": 79.972, \"pop\": 4553009, \"gdpPercap\": 47143.18, \"iso_alpha\": \"SGP\", \"iso_num\": 702}, {\"country\": \"Slovak Republic\", \"continent\": \"Europe\", \"year\": 2007, \"lifeExp\": 74.663, \"pop\": 5447502, \"gdpPercap\": 18678.314, \"iso_alpha\": \"SVK\", \"iso_num\": 703}, {\"country\": \"Slovenia\", \"continent\": \"Europe\", \"year\": 2007, \"lifeExp\": 77.926, \"pop\": 2009245, \"gdpPercap\": 25768.257999999998, \"iso_alpha\": \"SVN\", \"iso_num\": 705}, {\"country\": \"Somalia\", \"continent\": \"Africa\", \"year\": 2007, \"lifeExp\": 48.159, \"pop\": 9118773, \"gdpPercap\": 926.1410000000001, \"iso_alpha\": \"SOM\", \"iso_num\": 706}, {\"country\": \"South Africa\", \"continent\": \"Africa\", \"year\": 2007, \"lifeExp\": 49.339, \"pop\": 43997828, \"gdpPercap\": 9269.658000000001, \"iso_alpha\": \"ZAF\", \"iso_num\": 710}, {\"country\": \"Spain\", \"continent\": \"Europe\", \"year\": 2007, \"lifeExp\": 80.941, \"pop\": 40448191, \"gdpPercap\": 28821.064, \"iso_alpha\": \"ESP\", \"iso_num\": 724}, {\"country\": \"Sri Lanka\", \"continent\": \"Asia\", \"year\": 2007, \"lifeExp\": 72.396, \"pop\": 20378239, \"gdpPercap\": 3970.095, \"iso_alpha\": \"LKA\", \"iso_num\": 144}, {\"country\": \"Sudan\", \"continent\": \"Africa\", \"year\": 2007, \"lifeExp\": 58.556000000000004, \"pop\": 42292929, \"gdpPercap\": 2602.395, \"iso_alpha\": \"SDN\", \"iso_num\": 736}, {\"country\": \"Swaziland\", \"continent\": \"Africa\", \"year\": 2007, \"lifeExp\": 39.613, \"pop\": 1133066, \"gdpPercap\": 4513.481, \"iso_alpha\": \"SWZ\", \"iso_num\": 748}, {\"country\": \"Sweden\", \"continent\": \"Europe\", \"year\": 2007, \"lifeExp\": 80.884, \"pop\": 9031088, \"gdpPercap\": 33859.748, \"iso_alpha\": \"SWE\", \"iso_num\": 752}, {\"country\": \"Switzerland\", \"continent\": \"Europe\", \"year\": 2007, \"lifeExp\": 81.70100000000001, \"pop\": 7554661, \"gdpPercap\": 37506.419, \"iso_alpha\": \"CHE\", \"iso_num\": 756}, {\"country\": \"Syria\", \"continent\": \"Asia\", \"year\": 2007, \"lifeExp\": 74.143, \"pop\": 19314747, \"gdpPercap\": 4184.548, \"iso_alpha\": \"SYR\", \"iso_num\": 760}, {\"country\": \"Taiwan\", \"continent\": \"Asia\", \"year\": 2007, \"lifeExp\": 78.4, \"pop\": 23174294, \"gdpPercap\": 28718.277000000002, \"iso_alpha\": \"TWN\", \"iso_num\": 158}, {\"country\": \"Tanzania\", \"continent\": \"Africa\", \"year\": 2007, \"lifeExp\": 52.516999999999996, \"pop\": 38139640, \"gdpPercap\": 1107.482, \"iso_alpha\": \"TZA\", \"iso_num\": 834}, {\"country\": \"Thailand\", \"continent\": \"Asia\", \"year\": 2007, \"lifeExp\": 70.616, \"pop\": 65068149, \"gdpPercap\": 7458.396, \"iso_alpha\": \"THA\", \"iso_num\": 764}, {\"country\": \"Togo\", \"continent\": \"Africa\", \"year\": 2007, \"lifeExp\": 58.42, \"pop\": 5701579, \"gdpPercap\": 882.97, \"iso_alpha\": \"TGO\", \"iso_num\": 768}, {\"country\": \"Trinidad and Tobago\", \"continent\": \"Americas\", \"year\": 2007, \"lifeExp\": 69.819, \"pop\": 1056608, \"gdpPercap\": 18008.509, \"iso_alpha\": \"TTO\", \"iso_num\": 780}, {\"country\": \"Tunisia\", \"continent\": \"Africa\", \"year\": 2007, \"lifeExp\": 73.923, \"pop\": 10276158, \"gdpPercap\": 7092.923000000001, \"iso_alpha\": \"TUN\", \"iso_num\": 788}, {\"country\": \"Turkey\", \"continent\": \"Europe\", \"year\": 2007, \"lifeExp\": 71.777, \"pop\": 71158647, \"gdpPercap\": 8458.276, \"iso_alpha\": \"TUR\", \"iso_num\": 792}, {\"country\": \"Uganda\", \"continent\": \"Africa\", \"year\": 2007, \"lifeExp\": 51.542, \"pop\": 29170398, \"gdpPercap\": 1056.38, \"iso_alpha\": \"UGA\", \"iso_num\": 800}, {\"country\": \"United Kingdom\", \"continent\": \"Europe\", \"year\": 2007, \"lifeExp\": 79.425, \"pop\": 60776238, \"gdpPercap\": 33203.261, \"iso_alpha\": \"GBR\", \"iso_num\": 826}, {\"country\": \"United States\", \"continent\": \"Americas\", \"year\": 2007, \"lifeExp\": 78.242, \"pop\": 301139947, \"gdpPercap\": 42951.653, \"iso_alpha\": \"USA\", \"iso_num\": 840}, {\"country\": \"Uruguay\", \"continent\": \"Americas\", \"year\": 2007, \"lifeExp\": 76.384, \"pop\": 3447496, \"gdpPercap\": 10611.463, \"iso_alpha\": \"URY\", \"iso_num\": 858}, {\"country\": \"Venezuela\", \"continent\": \"Americas\", \"year\": 2007, \"lifeExp\": 73.747, \"pop\": 26084662, \"gdpPercap\": 11415.806, \"iso_alpha\": \"VEN\", \"iso_num\": 862}, {\"country\": \"Vietnam\", \"continent\": \"Asia\", \"year\": 2007, \"lifeExp\": 74.249, \"pop\": 85262356, \"gdpPercap\": 2441.576, \"iso_alpha\": \"VNM\", \"iso_num\": 704}, {\"country\": \"West Bank and Gaza\", \"continent\": \"Asia\", \"year\": 2007, \"lifeExp\": 73.422, \"pop\": 4018332, \"gdpPercap\": 3025.35, \"iso_alpha\": \"PSE\", \"iso_num\": 275}, {\"country\": \"Yemen, Rep.\", \"continent\": \"Asia\", \"year\": 2007, \"lifeExp\": 62.698, \"pop\": 22211743, \"gdpPercap\": 2280.77, \"iso_alpha\": \"YEM\", \"iso_num\": 887}, {\"country\": \"Zambia\", \"continent\": \"Africa\", \"year\": 2007, \"lifeExp\": 42.38399999999999, \"pop\": 11746035, \"gdpPercap\": 1271.212, \"iso_alpha\": \"ZMB\", \"iso_num\": 894}, {\"country\": \"Zimbabwe\", \"continent\": \"Africa\", \"year\": 2007, \"lifeExp\": 43.486999999999995, \"pop\": 12311143, \"gdpPercap\": 469.709, \"iso_alpha\": \"ZWE\", \"iso_num\": 716}]}}, {\"mode\": \"vega-lite\"});\n",
       "</script>"
      ],
      "text/plain": [
       "alt.Chart(...)"
      ]
     },
     "execution_count": 4,
     "metadata": {},
     "output_type": "execute_result"
    }
   ],
   "source": [
    "alt.Chart(df_2007).mark_circle().encode(\n",
    "    alt.X('gdpPercap:Q', scale=alt.Scale(type='log', domain=(100, 100000))),\n",
    "    alt.Y('lifeExp:Q', scale=alt.Scale(domain=(25, 90))),\n",
    "    size=alt.Size('pop:Q'),\n",
    "    color='continent:N',\n",
    "    tooltip=['country', 'lifeExp', 'pop', 'gdpPercap']\n",
    ").properties(title='2007').interactive()\n"
   ]
  },
  {
   "cell_type": "code",
   "execution_count": 14,
   "metadata": {
    "ExecuteTime": {
     "end_time": "2021-05-26T15:42:54.083042Z",
     "start_time": "2021-05-26T15:42:54.076076Z"
    }
   },
   "outputs": [],
   "source": [
    "def bubble_chart(df, year, continent = 'All'):\n",
    "    if continent == 'all':\n",
    "        df_year = df[df['year'] == year].copy()\n",
    "        chart_title = f'{year}: All continents'\n",
    "    else:\n",
    "        df_year = df[(df['year'] == year) & (df['continent'] == continent)]\n",
    "        chart_title = f'{year}: {continent}'\n",
    "    alt_chart = alt.Chart(df_year).mark_circle().encode(\n",
    "        alt.X('gdpPercap:Q', scale=alt.Scale(type='log', domain=(100, 100000))),\n",
    "        alt.Y('lifeExp:Q', scale=alt.Scale(domain=(25, 90))),\n",
    "        size=alt.Size('pop:Q'),\n",
    "        color='continent:N',\n",
    "        tooltip=['country', 'lifeExp', 'pop', 'gdpPercap']\n",
    "    ).properties(title=chart_title).interactive()\n",
    "    return alt_chart"
   ]
  },
  {
   "cell_type": "code",
   "execution_count": 16,
   "metadata": {
    "ExecuteTime": {
     "end_time": "2021-05-26T15:43:18.172353Z",
     "start_time": "2021-05-26T15:43:18.123553Z"
    }
   },
   "outputs": [
    {
     "data": {
      "text/html": [
       "\n",
       "<div id=\"altair-viz-8bf6d036c9494331a38b0d9010cb1620\"></div>\n",
       "<script type=\"text/javascript\">\n",
       "  (function(spec, embedOpt){\n",
       "    let outputDiv = document.currentScript.previousElementSibling;\n",
       "    if (outputDiv.id !== \"altair-viz-8bf6d036c9494331a38b0d9010cb1620\") {\n",
       "      outputDiv = document.getElementById(\"altair-viz-8bf6d036c9494331a38b0d9010cb1620\");\n",
       "    }\n",
       "    const paths = {\n",
       "      \"vega\": \"https://cdn.jsdelivr.net/npm//vega@5?noext\",\n",
       "      \"vega-lib\": \"https://cdn.jsdelivr.net/npm//vega-lib?noext\",\n",
       "      \"vega-lite\": \"https://cdn.jsdelivr.net/npm//vega-lite@4.8.1?noext\",\n",
       "      \"vega-embed\": \"https://cdn.jsdelivr.net/npm//vega-embed@6?noext\",\n",
       "    };\n",
       "\n",
       "    function loadScript(lib) {\n",
       "      return new Promise(function(resolve, reject) {\n",
       "        var s = document.createElement('script');\n",
       "        s.src = paths[lib];\n",
       "        s.async = true;\n",
       "        s.onload = () => resolve(paths[lib]);\n",
       "        s.onerror = () => reject(`Error loading script: ${paths[lib]}`);\n",
       "        document.getElementsByTagName(\"head\")[0].appendChild(s);\n",
       "      });\n",
       "    }\n",
       "\n",
       "    function showError(err) {\n",
       "      outputDiv.innerHTML = `<div class=\"error\" style=\"color:red;\">${err}</div>`;\n",
       "      throw err;\n",
       "    }\n",
       "\n",
       "    function displayChart(vegaEmbed) {\n",
       "      vegaEmbed(outputDiv, spec, embedOpt)\n",
       "        .catch(err => showError(`Javascript Error: ${err.message}<br>This usually means there's a typo in your chart specification. See the javascript console for the full traceback.`));\n",
       "    }\n",
       "\n",
       "    if(typeof define === \"function\" && define.amd) {\n",
       "      requirejs.config({paths});\n",
       "      require([\"vega-embed\"], displayChart, err => showError(`Error loading script: ${err.message}`));\n",
       "    } else if (typeof vegaEmbed === \"function\") {\n",
       "      displayChart(vegaEmbed);\n",
       "    } else {\n",
       "      loadScript(\"vega\")\n",
       "        .then(() => loadScript(\"vega-lite\"))\n",
       "        .then(() => loadScript(\"vega-embed\"))\n",
       "        .catch(showError)\n",
       "        .then(() => displayChart(vegaEmbed));\n",
       "    }\n",
       "  })({\"config\": {\"view\": {\"continuousWidth\": 400, \"continuousHeight\": 300}}, \"data\": {\"name\": \"data-bf68239d4b40aff71650fe37ec5ace18\"}, \"mark\": \"circle\", \"encoding\": {\"color\": {\"type\": \"nominal\", \"field\": \"continent\"}, \"size\": {\"type\": \"quantitative\", \"field\": \"pop\"}, \"tooltip\": [{\"type\": \"nominal\", \"field\": \"country\"}, {\"type\": \"quantitative\", \"field\": \"lifeExp\"}, {\"type\": \"quantitative\", \"field\": \"pop\"}, {\"type\": \"quantitative\", \"field\": \"gdpPercap\"}], \"x\": {\"type\": \"quantitative\", \"field\": \"gdpPercap\", \"scale\": {\"domain\": [100, 100000], \"type\": \"log\"}}, \"y\": {\"type\": \"quantitative\", \"field\": \"lifeExp\", \"scale\": {\"domain\": [25, 90]}}}, \"selection\": {\"selector008\": {\"type\": \"interval\", \"bind\": \"scales\", \"encodings\": [\"x\", \"y\"]}}, \"title\": \"2007: Asia\", \"$schema\": \"https://vega.github.io/schema/vega-lite/v4.8.1.json\", \"datasets\": {\"data-bf68239d4b40aff71650fe37ec5ace18\": [{\"country\": \"Afghanistan\", \"continent\": \"Asia\", \"year\": 2007, \"lifeExp\": 43.828, \"pop\": 31889923, \"gdpPercap\": 974.58, \"iso_alpha\": \"AFG\", \"iso_num\": 4}, {\"country\": \"Bahrain\", \"continent\": \"Asia\", \"year\": 2007, \"lifeExp\": 75.635, \"pop\": 708573, \"gdpPercap\": 29796.048, \"iso_alpha\": \"BHR\", \"iso_num\": 48}, {\"country\": \"Bangladesh\", \"continent\": \"Asia\", \"year\": 2007, \"lifeExp\": 64.062, \"pop\": 150448339, \"gdpPercap\": 1391.254, \"iso_alpha\": \"BGD\", \"iso_num\": 50}, {\"country\": \"Cambodia\", \"continent\": \"Asia\", \"year\": 2007, \"lifeExp\": 59.723, \"pop\": 14131858, \"gdpPercap\": 1713.779, \"iso_alpha\": \"KHM\", \"iso_num\": 116}, {\"country\": \"China\", \"continent\": \"Asia\", \"year\": 2007, \"lifeExp\": 72.961, \"pop\": 1318683096, \"gdpPercap\": 4959.115, \"iso_alpha\": \"CHN\", \"iso_num\": 156}, {\"country\": \"Hong Kong, China\", \"continent\": \"Asia\", \"year\": 2007, \"lifeExp\": 82.208, \"pop\": 6980412, \"gdpPercap\": 39724.979, \"iso_alpha\": \"HKG\", \"iso_num\": 344}, {\"country\": \"India\", \"continent\": \"Asia\", \"year\": 2007, \"lifeExp\": 64.69800000000001, \"pop\": 1110396331, \"gdpPercap\": 2452.21, \"iso_alpha\": \"IND\", \"iso_num\": 356}, {\"country\": \"Indonesia\", \"continent\": \"Asia\", \"year\": 2007, \"lifeExp\": 70.65, \"pop\": 223547000, \"gdpPercap\": 3540.652, \"iso_alpha\": \"IDN\", \"iso_num\": 360}, {\"country\": \"Iran\", \"continent\": \"Asia\", \"year\": 2007, \"lifeExp\": 70.964, \"pop\": 69453570, \"gdpPercap\": 11605.714, \"iso_alpha\": \"IRN\", \"iso_num\": 364}, {\"country\": \"Iraq\", \"continent\": \"Asia\", \"year\": 2007, \"lifeExp\": 59.545, \"pop\": 27499638, \"gdpPercap\": 4471.062, \"iso_alpha\": \"IRQ\", \"iso_num\": 368}, {\"country\": \"Israel\", \"continent\": \"Asia\", \"year\": 2007, \"lifeExp\": 80.745, \"pop\": 6426679, \"gdpPercap\": 25523.277000000002, \"iso_alpha\": \"ISR\", \"iso_num\": 376}, {\"country\": \"Japan\", \"continent\": \"Asia\", \"year\": 2007, \"lifeExp\": 82.603, \"pop\": 127467972, \"gdpPercap\": 31656.068, \"iso_alpha\": \"JPN\", \"iso_num\": 392}, {\"country\": \"Jordan\", \"continent\": \"Asia\", \"year\": 2007, \"lifeExp\": 72.535, \"pop\": 6053193, \"gdpPercap\": 4519.460999999999, \"iso_alpha\": \"JOR\", \"iso_num\": 400}, {\"country\": \"Korea, Dem. Rep.\", \"continent\": \"Asia\", \"year\": 2007, \"lifeExp\": 67.297, \"pop\": 23301725, \"gdpPercap\": 1593.065, \"iso_alpha\": \"KOR\", \"iso_num\": 410}, {\"country\": \"Korea, Rep.\", \"continent\": \"Asia\", \"year\": 2007, \"lifeExp\": 78.623, \"pop\": 49044790, \"gdpPercap\": 23348.14, \"iso_alpha\": \"KOR\", \"iso_num\": 410}, {\"country\": \"Kuwait\", \"continent\": \"Asia\", \"year\": 2007, \"lifeExp\": 77.58800000000001, \"pop\": 2505559, \"gdpPercap\": 47306.99, \"iso_alpha\": \"KWT\", \"iso_num\": 414}, {\"country\": \"Lebanon\", \"continent\": \"Asia\", \"year\": 2007, \"lifeExp\": 71.993, \"pop\": 3921278, \"gdpPercap\": 10461.059000000001, \"iso_alpha\": \"LBN\", \"iso_num\": 422}, {\"country\": \"Malaysia\", \"continent\": \"Asia\", \"year\": 2007, \"lifeExp\": 74.241, \"pop\": 24821286, \"gdpPercap\": 12451.656, \"iso_alpha\": \"MYS\", \"iso_num\": 458}, {\"country\": \"Mongolia\", \"continent\": \"Asia\", \"year\": 2007, \"lifeExp\": 66.803, \"pop\": 2874127, \"gdpPercap\": 3095.772, \"iso_alpha\": \"MNG\", \"iso_num\": 496}, {\"country\": \"Myanmar\", \"continent\": \"Asia\", \"year\": 2007, \"lifeExp\": 62.068999999999996, \"pop\": 47761980, \"gdpPercap\": 944.0, \"iso_alpha\": \"MMR\", \"iso_num\": 104}, {\"country\": \"Nepal\", \"continent\": \"Asia\", \"year\": 2007, \"lifeExp\": 63.785, \"pop\": 28901790, \"gdpPercap\": 1091.36, \"iso_alpha\": \"NPL\", \"iso_num\": 524}, {\"country\": \"Oman\", \"continent\": \"Asia\", \"year\": 2007, \"lifeExp\": 75.64, \"pop\": 3204897, \"gdpPercap\": 22316.193, \"iso_alpha\": \"OMN\", \"iso_num\": 512}, {\"country\": \"Pakistan\", \"continent\": \"Asia\", \"year\": 2007, \"lifeExp\": 65.483, \"pop\": 169270617, \"gdpPercap\": 2605.948, \"iso_alpha\": \"PAK\", \"iso_num\": 586}, {\"country\": \"Philippines\", \"continent\": \"Asia\", \"year\": 2007, \"lifeExp\": 71.688, \"pop\": 91077287, \"gdpPercap\": 3190.4809999999998, \"iso_alpha\": \"PHL\", \"iso_num\": 608}, {\"country\": \"Saudi Arabia\", \"continent\": \"Asia\", \"year\": 2007, \"lifeExp\": 72.777, \"pop\": 27601038, \"gdpPercap\": 21654.832000000002, \"iso_alpha\": \"SAU\", \"iso_num\": 682}, {\"country\": \"Singapore\", \"continent\": \"Asia\", \"year\": 2007, \"lifeExp\": 79.972, \"pop\": 4553009, \"gdpPercap\": 47143.18, \"iso_alpha\": \"SGP\", \"iso_num\": 702}, {\"country\": \"Sri Lanka\", \"continent\": \"Asia\", \"year\": 2007, \"lifeExp\": 72.396, \"pop\": 20378239, \"gdpPercap\": 3970.095, \"iso_alpha\": \"LKA\", \"iso_num\": 144}, {\"country\": \"Syria\", \"continent\": \"Asia\", \"year\": 2007, \"lifeExp\": 74.143, \"pop\": 19314747, \"gdpPercap\": 4184.548, \"iso_alpha\": \"SYR\", \"iso_num\": 760}, {\"country\": \"Taiwan\", \"continent\": \"Asia\", \"year\": 2007, \"lifeExp\": 78.4, \"pop\": 23174294, \"gdpPercap\": 28718.277000000002, \"iso_alpha\": \"TWN\", \"iso_num\": 158}, {\"country\": \"Thailand\", \"continent\": \"Asia\", \"year\": 2007, \"lifeExp\": 70.616, \"pop\": 65068149, \"gdpPercap\": 7458.396, \"iso_alpha\": \"THA\", \"iso_num\": 764}, {\"country\": \"Vietnam\", \"continent\": \"Asia\", \"year\": 2007, \"lifeExp\": 74.249, \"pop\": 85262356, \"gdpPercap\": 2441.576, \"iso_alpha\": \"VNM\", \"iso_num\": 704}, {\"country\": \"West Bank and Gaza\", \"continent\": \"Asia\", \"year\": 2007, \"lifeExp\": 73.422, \"pop\": 4018332, \"gdpPercap\": 3025.35, \"iso_alpha\": \"PSE\", \"iso_num\": 275}, {\"country\": \"Yemen, Rep.\", \"continent\": \"Asia\", \"year\": 2007, \"lifeExp\": 62.698, \"pop\": 22211743, \"gdpPercap\": 2280.77, \"iso_alpha\": \"YEM\", \"iso_num\": 887}]}}, {\"mode\": \"vega-lite\"});\n",
       "</script>"
      ],
      "text/plain": [
       "alt.Chart(...)"
      ]
     },
     "execution_count": 16,
     "metadata": {},
     "output_type": "execute_result"
    }
   ],
   "source": [
    "chart_2007_asia = bubble_chart(df, 2007, 'Asia')\n",
    "chart_2007_asia"
   ]
  },
  {
   "cell_type": "code",
   "execution_count": 17,
   "metadata": {
    "ExecuteTime": {
     "end_time": "2021-05-26T15:46:38.849447Z",
     "start_time": "2021-05-26T15:46:38.843712Z"
    }
   },
   "outputs": [
    {
     "data": {
      "text/plain": [
       "['Asia', 'Europe', 'Africa', 'Americas', 'Oceania']"
      ]
     },
     "execution_count": 17,
     "metadata": {},
     "output_type": "execute_result"
    }
   ],
   "source": [
    "df['continent'].unique().tolist()"
   ]
  },
  {
   "cell_type": "code",
   "execution_count": null,
   "metadata": {},
   "outputs": [],
   "source": []
  }
 ],
 "metadata": {
  "kernelspec": {
   "display_name": "Python 3",
   "language": "python",
   "name": "python3"
  },
  "language_info": {
   "codemirror_mode": {
    "name": "ipython",
    "version": 3
   },
   "file_extension": ".py",
   "mimetype": "text/x-python",
   "name": "python",
   "nbconvert_exporter": "python",
   "pygments_lexer": "ipython3",
   "version": "3.7.1"
  }
 },
 "nbformat": 4,
 "nbformat_minor": 4
}

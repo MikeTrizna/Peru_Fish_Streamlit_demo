{
 "cells": [
  {
   "cell_type": "code",
   "execution_count": 1,
   "metadata": {
    "ExecuteTime": {
     "end_time": "2020-11-17T17:50:48.484584Z",
     "start_time": "2020-11-17T17:50:45.192891Z"
    }
   },
   "outputs": [],
   "source": [
    "from fastai.vision.all import *"
   ]
  },
  {
   "cell_type": "code",
   "execution_count": 2,
   "metadata": {
    "ExecuteTime": {
     "end_time": "2020-11-17T17:50:48.646164Z",
     "start_time": "2020-11-17T17:50:48.486594Z"
    }
   },
   "outputs": [],
   "source": [
    "learn_inf = load_learner('../pet_classifier_resnet34.pkl', cpu=True)"
   ]
  },
  {
   "cell_type": "code",
   "execution_count": 3,
   "metadata": {
    "ExecuteTime": {
     "end_time": "2020-11-17T17:50:48.650167Z",
     "start_time": "2020-11-17T17:50:48.648044Z"
    }
   },
   "outputs": [],
   "source": [
    "import os"
   ]
  },
  {
   "cell_type": "code",
   "execution_count": 4,
   "metadata": {
    "ExecuteTime": {
     "end_time": "2020-11-17T17:50:48.657425Z",
     "start_time": "2020-11-17T17:50:48.651749Z"
    }
   },
   "outputs": [
    {
     "data": {
      "text/plain": [
       "87826330"
      ]
     },
     "execution_count": 4,
     "metadata": {},
     "output_type": "execute_result"
    }
   ],
   "source": [
    "os.path.getsize('../pet_classifier_resnet34.pkl')"
   ]
  },
  {
   "cell_type": "code",
   "execution_count": 5,
   "metadata": {
    "ExecuteTime": {
     "end_time": "2020-11-17T17:50:48.912196Z",
     "start_time": "2020-11-17T17:50:48.658881Z"
    }
   },
   "outputs": [
    {
     "data": {
      "text/html": [],
      "text/plain": [
       "<IPython.core.display.HTML object>"
      ]
     },
     "metadata": {},
     "output_type": "display_data"
    },
    {
     "data": {
      "text/plain": [
       "('english_setter',\n",
       " TensorImage(19),\n",
       " TensorImage([6.2121e-03, 1.5759e-03, 9.1642e-05, 5.8274e-03, 5.9339e-04, 7.3311e-04,\n",
       "         1.5483e-02, 1.4462e-03, 1.8252e-03, 4.4191e-05, 1.9820e-04, 3.2745e-04,\n",
       "         2.7808e-03, 1.6632e-02, 2.1275e-02, 1.6965e-02, 8.1877e-05, 4.5862e-03,\n",
       "         1.2013e-02, 5.1440e-01, 1.2012e-02, 2.8231e-02, 3.2479e-02, 2.3698e-02,\n",
       "         3.5501e-02, 1.1408e-02, 1.5416e-02, 1.0064e-02, 5.7994e-02, 1.2268e-03,\n",
       "         7.1552e-02, 1.6740e-02, 7.9415e-04, 1.9207e-02, 6.5042e-04, 1.6642e-04,\n",
       "         3.9767e-02]))"
      ]
     },
     "execution_count": 5,
     "metadata": {},
     "output_type": "execute_result"
    }
   ],
   "source": [
    "learn_inf.predict('../dog.2.jpg')"
   ]
  },
  {
   "cell_type": "code",
   "execution_count": 6,
   "metadata": {
    "ExecuteTime": {
     "end_time": "2020-11-17T17:50:49.321720Z",
     "start_time": "2020-11-17T17:50:48.913543Z"
    }
   },
   "outputs": [
    {
     "data": {
      "text/html": [],
      "text/plain": [
       "<IPython.core.display.HTML object>"
      ]
     },
     "metadata": {},
     "output_type": "display_data"
    },
    {
     "data": {
      "text/plain": [
       "'Prediction: american_pit_bull_terrier; Probability: 0.7096'"
      ]
     },
     "execution_count": 6,
     "metadata": {},
     "output_type": "execute_result"
    }
   ],
   "source": [
    "pred,pred_idx,probs = learn_inf.predict('../PXL_20201028_170423314.jpg')\n",
    "lbl_pred = f'Prediction: {pred}; Probability: {probs[pred_idx]:.04f}'\n",
    "lbl_pred"
   ]
  },
  {
   "cell_type": "code",
   "execution_count": 13,
   "metadata": {
    "ExecuteTime": {
     "end_time": "2020-11-17T21:55:13.923442Z",
     "start_time": "2020-11-17T21:55:13.919862Z"
    }
   },
   "outputs": [
    {
     "data": {
      "text/plain": [
       "['Abyssinian', 'Bengal', 'Birman', 'Bombay', 'British_Shorthair', 'Egyptian_Mau', 'Maine_Coon', 'Persian', 'Ragdoll', 'Russian_Blue', 'Siamese', 'Sphynx', 'american_bulldog', 'american_pit_bull_terrier', 'basset_hound', 'beagle', 'boxer', 'chihuahua', 'english_cocker_spaniel', 'english_setter', 'german_shorthaired', 'great_pyrenees', 'havanese', 'japanese_chin', 'keeshond', 'leonberger', 'miniature_pinscher', 'newfoundland', 'pomeranian', 'pug', 'saint_bernard', 'samoyed', 'scottish_terrier', 'shiba_inu', 'staffordshire_bull_terrier', 'wheaten_terrier', 'yorkshire_terrier']"
      ]
     },
     "execution_count": 13,
     "metadata": {},
     "output_type": "execute_result"
    }
   ],
   "source": [
    "classes = learn_inf.dls.vocab\n",
    "classes"
   ]
  },
  {
   "cell_type": "code",
   "execution_count": 9,
   "metadata": {
    "ExecuteTime": {
     "end_time": "2020-11-17T21:52:36.176924Z",
     "start_time": "2020-11-17T21:52:36.151888Z"
    }
   },
   "outputs": [
    {
     "data": {
      "text/plain": [
       "TensorImage(13)"
      ]
     },
     "execution_count": 9,
     "metadata": {},
     "output_type": "execute_result"
    }
   ],
   "source": [
    "pred_idx"
   ]
  },
  {
   "cell_type": "code",
   "execution_count": 15,
   "metadata": {
    "ExecuteTime": {
     "end_time": "2020-11-17T21:55:46.981840Z",
     "start_time": "2020-11-17T21:55:46.975541Z"
    }
   },
   "outputs": [
    {
     "data": {
      "text/plain": [
       "[('Abyssinian', 0.0),\n",
       " ('Bengal', 0.0),\n",
       " ('Birman', 0.0),\n",
       " ('Bombay', 0.0),\n",
       " ('British_Shorthair', 0.0),\n",
       " ('Egyptian_Mau', 0.0),\n",
       " ('Maine_Coon', 0.0),\n",
       " ('Persian', 0.0),\n",
       " ('Ragdoll', 0.0),\n",
       " ('Russian_Blue', 0.0),\n",
       " ('Siamese', 0.0),\n",
       " ('Sphynx', 0.01),\n",
       " ('american_bulldog', 18.66),\n",
       " ('american_pit_bull_terrier', 70.96),\n",
       " ('basset_hound', 0.02),\n",
       " ('beagle', 2.22),\n",
       " ('boxer', 0.46),\n",
       " ('chihuahua', 0.01),\n",
       " ('english_cocker_spaniel', 0.0),\n",
       " ('english_setter', 0.0),\n",
       " ('german_shorthaired', 0.04),\n",
       " ('great_pyrenees', 0.0),\n",
       " ('havanese', 0.0),\n",
       " ('japanese_chin', 0.01),\n",
       " ('keeshond', 0.0),\n",
       " ('leonberger', 0.0),\n",
       " ('miniature_pinscher', 0.03),\n",
       " ('newfoundland', 0.0),\n",
       " ('pomeranian', 0.0),\n",
       " ('pug', 0.01),\n",
       " ('saint_bernard', 0.01),\n",
       " ('samoyed', 0.0),\n",
       " ('scottish_terrier', 0.01),\n",
       " ('shiba_inu', 0.02),\n",
       " ('staffordshire_bull_terrier', 7.5),\n",
       " ('wheaten_terrier', 0.01),\n",
       " ('yorkshire_terrier', 0.0)]"
      ]
     },
     "execution_count": 15,
     "metadata": {},
     "output_type": "execute_result"
    }
   ],
   "source": [
    "prediction_tuples = [(classes[i], round(float(conf) * 100,2)) for i, conf in enumerate(list(probs))]\n",
    "prediction_tuples"
   ]
  },
  {
   "cell_type": "code",
   "execution_count": 22,
   "metadata": {
    "ExecuteTime": {
     "end_time": "2020-11-17T22:00:11.403400Z",
     "start_time": "2020-11-17T22:00:11.391948Z"
    }
   },
   "outputs": [
    {
     "data": {
      "text/html": [
       "<div>\n",
       "<style scoped>\n",
       "    .dataframe tbody tr th:only-of-type {\n",
       "        vertical-align: middle;\n",
       "    }\n",
       "\n",
       "    .dataframe tbody tr th {\n",
       "        vertical-align: top;\n",
       "    }\n",
       "\n",
       "    .dataframe thead th {\n",
       "        text-align: right;\n",
       "    }\n",
       "</style>\n",
       "<table border=\"1\" class=\"dataframe\">\n",
       "  <thead>\n",
       "    <tr style=\"text-align: right;\">\n",
       "      <th></th>\n",
       "      <th>class</th>\n",
       "      <th>prob</th>\n",
       "    </tr>\n",
       "  </thead>\n",
       "  <tbody>\n",
       "    <tr>\n",
       "      <th>13</th>\n",
       "      <td>american_pit_bull_terrier</td>\n",
       "      <td>70.96</td>\n",
       "    </tr>\n",
       "    <tr>\n",
       "      <th>12</th>\n",
       "      <td>american_bulldog</td>\n",
       "      <td>18.66</td>\n",
       "    </tr>\n",
       "    <tr>\n",
       "      <th>34</th>\n",
       "      <td>staffordshire_bull_terrier</td>\n",
       "      <td>7.50</td>\n",
       "    </tr>\n",
       "    <tr>\n",
       "      <th>15</th>\n",
       "      <td>beagle</td>\n",
       "      <td>2.22</td>\n",
       "    </tr>\n",
       "  </tbody>\n",
       "</table>\n",
       "</div>"
      ],
      "text/plain": [
       "                         class   prob\n",
       "13   american_pit_bull_terrier  70.96\n",
       "12            american_bulldog  18.66\n",
       "34  staffordshire_bull_terrier   7.50\n",
       "15                      beagle   2.22"
      ]
     },
     "execution_count": 22,
     "metadata": {},
     "output_type": "execute_result"
    }
   ],
   "source": [
    "pred_rows = []\n",
    "for i, conf in enumerate(list(probs)):\n",
    "    pred_row = {'class': classes[i],\n",
    "                'prob': round(float(conf) * 100,2)}\n",
    "    pred_rows.append(pred_row)\n",
    "pred_df = pd.DataFrame(pred_rows)\n",
    "pred_df.head()\n",
    "pred_df.sort_values('prob', ascending=False).head(4)"
   ]
  },
  {
   "cell_type": "code",
   "execution_count": null,
   "metadata": {},
   "outputs": [],
   "source": []
  }
 ],
 "metadata": {
  "kernelspec": {
   "display_name": "Python 3",
   "language": "python",
   "name": "python3"
  },
  "language_info": {
   "codemirror_mode": {
    "name": "ipython",
    "version": 3
   },
   "file_extension": ".py",
   "mimetype": "text/x-python",
   "name": "python",
   "nbconvert_exporter": "python",
   "pygments_lexer": "ipython3",
   "version": "3.8.5"
  }
 },
 "nbformat": 4,
 "nbformat_minor": 4
}

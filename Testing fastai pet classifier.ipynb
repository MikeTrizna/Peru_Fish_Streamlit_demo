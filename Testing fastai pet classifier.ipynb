{
 "cells": [
  {
   "cell_type": "code",
   "execution_count": 1,
   "metadata": {
    "ExecuteTime": {
     "end_time": "2020-11-17T15:57:18.294432Z",
     "start_time": "2020-11-17T15:57:07.632626Z"
    }
   },
   "outputs": [],
   "source": [
    "from fastai.vision.all import *"
   ]
  },
  {
   "cell_type": "code",
   "execution_count": 7,
   "metadata": {
    "ExecuteTime": {
     "end_time": "2020-11-17T17:23:22.143537Z",
     "start_time": "2020-11-17T17:23:21.809725Z"
    }
   },
   "outputs": [],
   "source": [
    "learn_inf = load_learner('pet_classifier_resnet34.pkl', cpu=True)"
   ]
  },
  {
   "cell_type": "code",
   "execution_count": 8,
   "metadata": {
    "ExecuteTime": {
     "end_time": "2020-11-17T17:23:29.787224Z",
     "start_time": "2020-11-17T17:23:29.784600Z"
    }
   },
   "outputs": [],
   "source": [
    "import os"
   ]
  },
  {
   "cell_type": "code",
   "execution_count": 9,
   "metadata": {
    "ExecuteTime": {
     "end_time": "2020-11-17T17:24:08.283044Z",
     "start_time": "2020-11-17T17:24:08.275252Z"
    }
   },
   "outputs": [
    {
     "data": {
      "text/plain": [
       "87826330"
      ]
     },
     "execution_count": 9,
     "metadata": {},
     "output_type": "execute_result"
    }
   ],
   "source": [
    "os.path.getsize('pet_classifier_resnet34.pkl')"
   ]
  },
  {
   "cell_type": "code",
   "execution_count": 3,
   "metadata": {
    "ExecuteTime": {
     "end_time": "2020-11-17T15:59:18.167023Z",
     "start_time": "2020-11-17T15:59:17.933756Z"
    }
   },
   "outputs": [
    {
     "data": {
      "text/html": [],
      "text/plain": [
       "<IPython.core.display.HTML object>"
      ]
     },
     "metadata": {},
     "output_type": "display_data"
    },
    {
     "data": {
      "text/plain": [
       "('english_setter',\n",
       " TensorImage(19),\n",
       " TensorImage([6.2121e-03, 1.5759e-03, 9.1642e-05, 5.8274e-03, 5.9339e-04, 7.3311e-04,\n",
       "         1.5483e-02, 1.4462e-03, 1.8252e-03, 4.4191e-05, 1.9820e-04, 3.2745e-04,\n",
       "         2.7808e-03, 1.6632e-02, 2.1275e-02, 1.6965e-02, 8.1877e-05, 4.5862e-03,\n",
       "         1.2013e-02, 5.1440e-01, 1.2012e-02, 2.8231e-02, 3.2479e-02, 2.3698e-02,\n",
       "         3.5501e-02, 1.1408e-02, 1.5416e-02, 1.0064e-02, 5.7994e-02, 1.2268e-03,\n",
       "         7.1552e-02, 1.6740e-02, 7.9415e-04, 1.9207e-02, 6.5042e-04, 1.6642e-04,\n",
       "         3.9767e-02]))"
      ]
     },
     "execution_count": 3,
     "metadata": {},
     "output_type": "execute_result"
    }
   ],
   "source": [
    "learn_inf.predict('dog.2.jpg')"
   ]
  },
  {
   "cell_type": "code",
   "execution_count": 5,
   "metadata": {
    "ExecuteTime": {
     "end_time": "2020-11-17T16:04:28.384983Z",
     "start_time": "2020-11-17T16:04:28.000554Z"
    }
   },
   "outputs": [
    {
     "data": {
      "text/html": [],
      "text/plain": [
       "<IPython.core.display.HTML object>"
      ]
     },
     "metadata": {},
     "output_type": "display_data"
    },
    {
     "data": {
      "text/plain": [
       "'Prediction: american_pit_bull_terrier; Probability: 0.7096'"
      ]
     },
     "execution_count": 5,
     "metadata": {},
     "output_type": "execute_result"
    }
   ],
   "source": [
    "pred,pred_idx,probs = learn_inf.predict('PXL_20201028_170423314.jpg')\n",
    "lbl_pred = f'Prediction: {pred}; Probability: {probs[pred_idx]:.04f}'\n",
    "lbl_pred"
   ]
  },
  {
   "cell_type": "code",
   "execution_count": null,
   "metadata": {},
   "outputs": [],
   "source": []
  }
 ],
 "metadata": {
  "kernelspec": {
   "display_name": "Python 3",
   "language": "python",
   "name": "python3"
  },
  "language_info": {
   "codemirror_mode": {
    "name": "ipython",
    "version": 3
   },
   "file_extension": ".py",
   "mimetype": "text/x-python",
   "name": "python",
   "nbconvert_exporter": "python",
   "pygments_lexer": "ipython3",
   "version": "3.8.5"
  }
 },
 "nbformat": 4,
 "nbformat_minor": 4
}
